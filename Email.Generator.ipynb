{
 "cells": [
  {
   "cell_type": "code",
   "execution_count": 1,
   "id": "2e970c5f-e46a-42b5-969c-5d881558a127",
   "metadata": {},
   "outputs": [],
   "source": [
    "from langchain_groq import ChatGroq"
   ]
  },
  {
   "cell_type": "code",
   "execution_count": 2,
   "id": "4327083c-ae76-4171-9f43-92a8ddbc09ea",
   "metadata": {},
   "outputs": [],
   "source": [
    "llm = ChatGroq(temperature=0,groq_api_key = \"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\",\n",
    "              model_name=\"llama-3.3-70b-versatile\")"
   ]
  },
  {
   "cell_type": "code",
   "execution_count": 3,
   "id": "f29ff111-b8ad-4ec6-9014-827a376ad67e",
   "metadata": {},
   "outputs": [],
   "source": [
    "response = llm.invoke(\"The first person who walked on moon\")"
   ]
  },
  {
   "cell_type": "code",
   "execution_count": 4,
   "id": "8b8a459a-46e3-465f-9c3a-b507263d4ba0",
   "metadata": {},
   "outputs": [
    {
     "name": "stdout",
     "output_type": "stream",
     "text": [
      "The first person to walk on the moon was Neil Armstrong. He stepped out of the lunar module Eagle and onto the moon's surface on July 20, 1969, during the Apollo 11 mission. Armstrong famously declared, \"That's one small step for man, one giant leap for mankind,\" as he became the first human to set foot on the moon.\n",
      "\n",
      "Armstrong was followed by Edwin \"Buzz\" Aldrin, who also walked on the moon during the same mission. The two astronauts spent about two and a half hours outside the lunar module, collecting samples and conducting experiments.\n",
      "\n",
      "Here's a brief timeline of the Apollo 11 mission:\n",
      "\n",
      "* July 16, 1969: Apollo 11 launches from Kennedy Space Center in Florida.\n",
      "* July 20, 1969: The lunar module Eagle lands on the moon's surface.\n",
      "* July 20, 1969: Neil Armstrong becomes the first person to walk on the moon.\n",
      "* July 21, 1969: The lunar module lifts off from the moon and returns to the command module Columbia.\n",
      "* July 24, 1969: The Apollo 11 spacecraft splashes down in the Pacific Ocean, marking the end of the mission.\n",
      "\n",
      "Neil Armstrong's historic moonwalk was a groundbreaking achievement that marked a major milestone in space exploration.\n"
     ]
    }
   ],
   "source": [
    "print(response.content)"
   ]
  },
  {
   "cell_type": "code",
   "execution_count": 5,
   "id": "a2d1a436-894f-4ade-95dd-950d0ac21716",
   "metadata": {},
   "outputs": [
    {
     "name": "stderr",
     "output_type": "stream",
     "text": [
      "USER_AGENT environment variable not set, consider setting it to identify your requests.\n"
     ]
    }
   ],
   "source": [
    "from langchain_community.document_loaders import WebBaseLoader"
   ]
  },
  {
   "cell_type": "code",
   "execution_count": 20,
   "id": "cb21fcd4-7ed6-4b74-b77b-f3097b5f3823",
   "metadata": {},
   "outputs": [],
   "source": [
    "loader = WebBaseLoader(\"https://jobs.nike.com/job/R-43372?from=job%20search%20funnel\")"
   ]
  },
  {
   "cell_type": "code",
   "execution_count": 21,
   "id": "d8d2ef64-169a-4bcc-9c8a-1b04912784fb",
   "metadata": {},
   "outputs": [],
   "source": [
    "page_data = loader.load().pop().page_content"
   ]
  },
  {
   "cell_type": "code",
   "execution_count": 22,
   "id": "ceb68eb7-b132-4aac-bafe-8ca7bab6125c",
   "metadata": {},
   "outputs": [
    {
     "name": "stdout",
     "output_type": "stream",
     "text": [
      "Apply for Senior Principal AI/ML Engineer\n",
      "\n",
      "Search JobsSkip navigationSearch JobsNIKE, INC. JOBSContract JobsJoin The Talent CommunityLife @ NikeOverviewBenefitsBrandsOverviewJordanConverseTeamsOverviewAdministrative SupportAdvanced InnovationAir Manufacturing InnovationAviationCommunicationsCustomer ServiceDesignDigitalFacilitiesFinance & AccountingGovernment & Public AffairsHuman ResourcesInsights & AnalyticsLegalManufacturing & EngineeringMarketingMerchandisingPlanningPrivacyProcurementProduct Creation, Development & ManagementRetail CorporateRetail StoresSalesSocial & Community ImpactSports MarketingStrategic PlanningSupply Chain, Distribution & LogisticsSustainabilityTechnologyLocationsOverviewNike WHQNike New York HQEHQ: Hilversum, The NetherlandsELC: Laakdal, BelgiumGreater China HQDiversity, Equity & InclusionOverviewMilitary InclusionDisability InclusionIndigenous InclusionInternshipsTechnologySenior Principal AI/ML EngineerBeaverton, OregonBecome a Part of the NIKE, Inc. TeamNIKE, Inc. does more than outfit the world’s best athletes. It is a place to explore potential, obliterate boundaries and push out the edges of what can be. The company looks for people who can grow, think, dream and create. Its culture thrives by embracing diversity and rewarding imagination. The brand seeks achievers, leaders and visionaries. At NIKE, Inc. it’s about each person bringing skills and passion to a challenging and constantly evolving game.NIKE is a technology company. From our flagship website and five-star mobile apps to developing products, managing big data and providing leading edge engineering and systems support, our teams at NIKE Global Technology exist to revolutionize the future at the confluence of tech and sport. We invest and develop advances in technology and employ the most creative people in the world, and then give them the support to constantly innovate, iterate and serve consumers more directly and personally.  Our teams are innovative, diverse, multidisciplinary and collaborative, taking technology into the future and bringing the world with it.Open to remote work except in South Dakota, Vermont and West Virginia.The annual base salary for this position ranges from $166,100.00 in our lowest geographic market to $392,700.00 in our highest geographic market. Actual salary will vary based on a candidate's location, qualifications, skills and experience.Information about benefits can be found here. NIKE, Inc. does more than outfit the world's best athletes. It is a place to explore potential, obliterate boundaries and push out the edges of what can be. We look for colleagues who can grow, think, dream and create. Our culture thrives by embracing diversity and rewarding imagination. The Nike brand seeks achievers, leaders and visionaries. At Nike, it’s about each person bringing skills and passion to a challenging and constantly evolving game.WHO ARE WE LOOKING FORWe seek passionate engineers to join our team.  As a Senior Principal AI/ML Engineer, you will lead the development of robust machine learning and generative AI solutions that have a direct impact on the business.  You are a seasoned Engineering leader who can evangelize technical direction, mentor cross-functional technical teams, and collaborate with non-technical stakeholders. You are proficient in Python; carry a strong background in algorithms and data structures; and have hands-on experience with AWS, databases, and data processing technologies.  You should also have a demonstrable history of team leadership and value delivery, and be comfortable working in an agile product model.  As a Sr. Principal AI/ML Engineer, you will be expected to own organizational-level initiatives from conception to operationalization, demonstrating an understanding of the full software development lifecycle.  You will be expected to provide technical vision and guidance to your teammates; therefore, strong communication skills are critical in this role. WHAT WILL YOU WORK ONWith teammates in Portland, Boston, and Poland, you’ll be joining the Artificial Intelligence and Machine Learning (AI/ML) team at Nike global organization working to solve machine learning problems at scale.  You’ll be influencing the collaborative design and implementation of scalable applications that leverage prediction models and optimization programs to deliver data driven decisions that result in immense business impact.  You’ll also contribute to core advanced analytics, machine learning, and generative AI platforms and tools to enable both prediction and optimization model development.  You thrive when surrounded by talented colleagues and aim to never stop learning. We are looking for teammates who enjoy a collaborative and academic environment where we develop and share new skills, mentor, and contribute knowledge and software back to the analytics and engineering communities both within Nike and at-large.We value and nurture our culture by seeking to always be collaborative, intellectually curious, fun, open, and diverse.WHO WILL YOU WORK WITHArtificial Intelligence and Machine Learning (AI/ML) is one of the key groups within Data and Artificial Intelligence and we have been chartered to help scale machine learning across Nike.  We bring cross-disciplinary teams of data scientists and engineers to areas of the business which are early in their analytics journey. For areas of the business which are more mature and already have data science teams, we help scale machine learning by providing squads of engineers to maximize the velocity of those data science teams in delivering value to the business. Lastly, we work closely with our platform and architecture partners to develop capabilities which help machine learning scale easier at Nike (e.g. model management, A/B testing, feature stores).  This role reports directly to the Senior Director of AI/ML Engineering.Essential Job Functions:Serve as part of a cross-functional leadership team to grow highly skilled, diverse engineering teams that deliver solutions which unlock machine learning for Nike.  Engage employees, assist the teams by removing roadblocks, and align efforts across Nike’s matrix to drive progress forward and always win as a team.Leverage your prior experience, knowledge of industry trends, and personal creativity to develop and drive new and innovative solutions which delight our customers in their mission to serve Athletes*.Stay current with industry trends and recommend relevant technologies & products in the areas of analytics, machine learning, artificial intelligence, and data science.  Given the rapid pace of change in technology and machine learning today, always be pushing the boundary of what’s possible and be on the offense always.Embrace and embody Nike’s core values (maxims) in your work and interactions with peers, stakeholders, and direct reports.  Model clarity and accountability as a leader of Nike. Communicate effectively, build trust and strong relationships across the company, do the right thing.Be a mentor to teams, individuals, and technical leaders to foster motivated contributors, collaborative stakeholders, and high performing teams.  Set high standards for engineering excellence, MLOPs, operational excellence, and drive innovation.Curiosity.WHAT YOU BRING TO NIKEA proven technical leader with deep knowledge and experience in delivering production grade software at scale. Able to dive deep into code and architecture to provide an informed opinion on benefits/trade-offs of different design choice.Bachelor’s Degree in computer science, software engineering, or applicable field (master’s degree or Ph.D. preferred).10+ years of experience across multiple roles in developing productionized code in software engineering, machine learning or a related field (experience delivering analytics and ML products preferred).4+ years in a leadership or management role using Agile frameworks.Familiarity with ETL, ML, or analytics technologies such as Scikit-learn, Dask, Tensorflow, Kubeflow, Spark, EMR, or similar platforms and frameworks.Must be able to meaningfully communicate, written, orally, and visually, technical topics with stakeholders and articulate the benefits and tradeoffs of each solution and connect them to business value; to influence decisions and changes across loosely coupled teams.Fluency in the application of open-source technologies. Ability to influence build/buy decisions in the area of Data Science, AI, & ML.Must be able to articulate and evangelize MLOps, code management workflows, infrastructure as code, test-driven development, and the lifecycle of model development from experimentation to production and measurement.  This will include a deep knowledge of software architecture and engineering best practices, especially modern cloud computing stacks for deploying machine learning at scale.Strong analytical mindset and experience leading others in problem solving.The habits of a constant learner.NIKE, Inc. is a growth company that looks for team members to grow with it. Nike offers a generous total rewards package, casual work environment, a diverse and inclusive culture, and an electric atmosphere for professional development. No matter the location, or the role, every Nike employee shares one galvanizing mission: To bring inspiration and innovation to every athlete* in the world. NIKE, Inc. is committed to employing a diverse workforce. Qualified applicants will receive consideration without regard to race, color, religion, sex, national origin, age, sexual orientation, gender identity, gender expression, veteran status, or disability.NIKE, Inc. is a growth company that looks for team members to grow with it. Nike offers a generous total rewards package, casual work environment, a diverse and inclusive culture, and an electric atmosphere for professional development. No matter the location, or the role, every Nike employee shares one galvanizing mission: To bring inspiration and innovation to every athlete* in the world.NIKE, Inc. is committed to employing a diverse workforce. Qualified applicants will receive consideration without regard to race, color, religion, sex, national origin, age, sexual orientation, gender identity, gender expression, veteran status, or disability.How We HireAt NIKE, Inc. we promise to provide a premium, inclusive, compelling and authentic candidate experience. Delivering on this promise means we allow you to be at your best — and to do that, you need to understand how the hiring process works. Transparency is key.\n",
      "\n",
      "* This overview explains our hiring process for corporate roles. Note there may be different hiring steps involved for non-corporate roles.Start nowBenefitsWhether it’s transportation or financial health, we continually invest in our employees to help them achieve greatness — inside and outside of work. All who work here should be able to realize their full potential.Employee Assistance ProgramEmployee Stock Purchase Plan (ESPP)HolidaysMedical PlanPaid Time Off (PTO)Product DiscountsSabbaticalsLearn moreFIND A STOREBECOME A MEMBERSIGN UP FOR EMAILSEND US FEEDBACKSTUDENT DISCOUNTSGET HELPGET HELPOrder StatusDeliveryReturnsPayment OptionsContact Us On Nike.com InquiriesContact Us On All Other InquiriesABOUT NIKEABOUT NIKENewsCareersInvestorsSustainabilityIndia© 2025 Nike, Inc. All Rights ReservedGuidesNike AdaptNike Air MaxNike FlyleatherNike PegasusNike Zoom FlyNike AirNike FlyEaseNike FreeNike ReactNike ZoomXNike Air Force 1Nike FlyknitNike JoyrideNike VaporflyTerms of SaleTerms of UseNike Privacy Policy\n"
     ]
    }
   ],
   "source": [
    "print(page_data)"
   ]
  },
  {
   "cell_type": "code",
   "execution_count": 23,
   "id": "550d4824-a1ee-4d29-9dcf-fd22b2c44519",
   "metadata": {},
   "outputs": [],
   "source": [
    "from langchain_core.prompts import PromptTemplate\n",
    "\n",
    "prompt_template = PromptTemplate.from_template(\n",
    "    \"\"\"\n",
    "    ###SCRAPED DATA FROM WEBSITE:\n",
    "    {page_data}\n",
    "    ###INSTRUCTION:\n",
    "    The scrapped text is from the career's page of a website.\n",
    "    Your job is to ectract job posting and return them into JSON format conataining the following keys:\n",
    "    \"role\",\"experience\",\"skills\",\"job description\".\n",
    "    only return the valid JSON\n",
    "    ###VALID JSON (NP PREMBLE):\n",
    "    \"\"\"\n",
    ")\n",
    "\n",
    "Chain_extract = prompt_template | llm"
   ]
  },
  {
   "cell_type": "code",
   "execution_count": 24,
   "id": "d140bf56-6a63-4386-83cf-1c8847357179",
   "metadata": {},
   "outputs": [
    {
     "name": "stdout",
     "output_type": "stream",
     "text": [
      "```json\n",
      "{\n",
      "  \"role\": \"Senior Principal AI/ML Engineer\",\n",
      "  \"experience\": \"10+ years of experience across multiple roles in developing productionized code in software engineering, machine learning or a related field\",\n",
      "  \"skills\": [\n",
      "    \"Python\",\n",
      "    \"algorithms and data structures\",\n",
      "    \"AWS\",\n",
      "    \"databases\",\n",
      "    \"data processing technologies\",\n",
      "    \"ETL\",\n",
      "    \"ML\",\n",
      "    \"analytics technologies such as Scikit-learn, Dask, Tensorflow, Kubeflow, Spark, EMR\"\n",
      "  ],\n",
      "  \"job description\": \"Lead the development of robust machine learning and generative AI solutions that have a direct impact on the business. Evangelize technical direction, mentor cross-functional technical teams, and collaborate with non-technical stakeholders.\"\n",
      "}\n",
      "```\n"
     ]
    }
   ],
   "source": [
    "res = Chain_extract.invoke(input={'page_data':page_data})\n",
    "print(res.content)"
   ]
  },
  {
   "cell_type": "code",
   "execution_count": 25,
   "id": "ab6295e3-f62f-4dc8-918a-48f14de7f6ea",
   "metadata": {},
   "outputs": [],
   "source": [
    "from langchain_core.output_parsers import JsonOutputParser"
   ]
  },
  {
   "cell_type": "code",
   "execution_count": 30,
   "id": "8867705e-047a-4821-9db2-2f0110fee279",
   "metadata": {},
   "outputs": [
    {
     "data": {
      "text/plain": [
       "{'role': 'Senior Principal AI/ML Engineer',\n",
       " 'experience': '10+ years of experience across multiple roles in developing productionized code in software engineering, machine learning or a related field',\n",
       " 'skills': ['Python',\n",
       "  'algorithms and data structures',\n",
       "  'AWS',\n",
       "  'databases',\n",
       "  'data processing technologies',\n",
       "  'ETL',\n",
       "  'ML',\n",
       "  'analytics technologies such as Scikit-learn, Dask, Tensorflow, Kubeflow, Spark, EMR'],\n",
       " 'job description': 'Lead the development of robust machine learning and generative AI solutions that have a direct impact on the business. Evangelize technical direction, mentor cross-functional technical teams, and collaborate with non-technical stakeholders.'}"
      ]
     },
     "execution_count": 30,
     "metadata": {},
     "output_type": "execute_result"
    }
   ],
   "source": [
    "json_parser = JsonOutputParser()\n",
    "json_res = json_parser.parse(res.content)\n",
    "json_res"
   ]
  },
  {
   "cell_type": "code",
   "execution_count": 31,
   "id": "f7f3495a-3940-4be1-95c4-acb4a3fce8b1",
   "metadata": {},
   "outputs": [
    {
     "data": {
      "text/plain": [
       "dict"
      ]
     },
     "execution_count": 31,
     "metadata": {},
     "output_type": "execute_result"
    }
   ],
   "source": [
    "type(json_res)"
   ]
  },
  {
   "cell_type": "code",
   "execution_count": 32,
   "id": "cf8a98fa-3eaa-4f11-8901-327e2524370f",
   "metadata": {},
   "outputs": [],
   "source": [
    "import pandas as pd"
   ]
  },
  {
   "cell_type": "code",
   "execution_count": 33,
   "id": "6073d9e9-399f-4dbf-966c-a406ec67c913",
   "metadata": {},
   "outputs": [
    {
     "data": {
      "text/html": [
       "<div>\n",
       "<style scoped>\n",
       "    .dataframe tbody tr th:only-of-type {\n",
       "        vertical-align: middle;\n",
       "    }\n",
       "\n",
       "    .dataframe tbody tr th {\n",
       "        vertical-align: top;\n",
       "    }\n",
       "\n",
       "    .dataframe thead th {\n",
       "        text-align: right;\n",
       "    }\n",
       "</style>\n",
       "<table border=\"1\" class=\"dataframe\">\n",
       "  <thead>\n",
       "    <tr style=\"text-align: right;\">\n",
       "      <th></th>\n",
       "      <th>Techstack</th>\n",
       "      <th>Links</th>\n",
       "    </tr>\n",
       "  </thead>\n",
       "  <tbody>\n",
       "    <tr>\n",
       "      <th>0</th>\n",
       "      <td>React, Node.js, MongoDB</td>\n",
       "      <td>https://example.com/react-portfolio</td>\n",
       "    </tr>\n",
       "    <tr>\n",
       "      <th>1</th>\n",
       "      <td>Angular,.NET, SQL Server</td>\n",
       "      <td>https://example.com/angular-portfolio</td>\n",
       "    </tr>\n",
       "    <tr>\n",
       "      <th>2</th>\n",
       "      <td>Vue.js, Ruby on Rails, PostgreSQL</td>\n",
       "      <td>https://example.com/vue-portfolio</td>\n",
       "    </tr>\n",
       "    <tr>\n",
       "      <th>3</th>\n",
       "      <td>Python, Django, MySQL</td>\n",
       "      <td>https://example.com/python-portfolio</td>\n",
       "    </tr>\n",
       "    <tr>\n",
       "      <th>4</th>\n",
       "      <td>Java, Spring Boot, Oracle</td>\n",
       "      <td>https://example.com/java-portfolio</td>\n",
       "    </tr>\n",
       "    <tr>\n",
       "      <th>5</th>\n",
       "      <td>Flutter, Firebase, GraphQL</td>\n",
       "      <td>https://example.com/flutter-portfolio</td>\n",
       "    </tr>\n",
       "    <tr>\n",
       "      <th>6</th>\n",
       "      <td>WordPress, PHP, MySQL</td>\n",
       "      <td>https://example.com/wordpress-portfolio</td>\n",
       "    </tr>\n",
       "    <tr>\n",
       "      <th>7</th>\n",
       "      <td>Magento, PHP, MySQL</td>\n",
       "      <td>https://example.com/magento-portfolio</td>\n",
       "    </tr>\n",
       "    <tr>\n",
       "      <th>8</th>\n",
       "      <td>React Native, Node.js, MongoDB</td>\n",
       "      <td>https://example.com/react-native-portfolio</td>\n",
       "    </tr>\n",
       "    <tr>\n",
       "      <th>9</th>\n",
       "      <td>iOS, Swift, Core Data</td>\n",
       "      <td>https://example.com/ios-portfolio</td>\n",
       "    </tr>\n",
       "    <tr>\n",
       "      <th>10</th>\n",
       "      <td>Android, Java, Room Persistence</td>\n",
       "      <td>https://example.com/android-portfolio</td>\n",
       "    </tr>\n",
       "    <tr>\n",
       "      <th>11</th>\n",
       "      <td>Kotlin, Android, Firebase</td>\n",
       "      <td>https://example.com/kotlin-android-portfolio</td>\n",
       "    </tr>\n",
       "    <tr>\n",
       "      <th>12</th>\n",
       "      <td>Android TV, Kotlin, Android NDK</td>\n",
       "      <td>https://example.com/android-tv-portfolio</td>\n",
       "    </tr>\n",
       "    <tr>\n",
       "      <th>13</th>\n",
       "      <td>iOS, Swift, ARKit</td>\n",
       "      <td>https://example.com/ios-ar-portfolio</td>\n",
       "    </tr>\n",
       "    <tr>\n",
       "      <th>14</th>\n",
       "      <td>Cross-platform, Xamarin, Azure</td>\n",
       "      <td>https://example.com/xamarin-portfolio</td>\n",
       "    </tr>\n",
       "    <tr>\n",
       "      <th>15</th>\n",
       "      <td>Backend, Kotlin, Spring Boot</td>\n",
       "      <td>https://example.com/kotlin-backend-portfolio</td>\n",
       "    </tr>\n",
       "    <tr>\n",
       "      <th>16</th>\n",
       "      <td>Frontend, TypeScript, Angular</td>\n",
       "      <td>https://example.com/typescript-frontend-portfolio</td>\n",
       "    </tr>\n",
       "    <tr>\n",
       "      <th>17</th>\n",
       "      <td>Full-stack, JavaScript, Express.js</td>\n",
       "      <td>https://example.com/full-stack-js-portfolio</td>\n",
       "    </tr>\n",
       "    <tr>\n",
       "      <th>18</th>\n",
       "      <td>Machine Learning, Python, TensorFlow</td>\n",
       "      <td>https://example.com/ml-python-portfolio</td>\n",
       "    </tr>\n",
       "    <tr>\n",
       "      <th>19</th>\n",
       "      <td>DevOps, Jenkins, Docker</td>\n",
       "      <td>https://example.com/devops-portfolio</td>\n",
       "    </tr>\n",
       "  </tbody>\n",
       "</table>\n",
       "</div>"
      ],
      "text/plain": [
       "                               Techstack  \\\n",
       "0                React, Node.js, MongoDB   \n",
       "1               Angular,.NET, SQL Server   \n",
       "2      Vue.js, Ruby on Rails, PostgreSQL   \n",
       "3                  Python, Django, MySQL   \n",
       "4              Java, Spring Boot, Oracle   \n",
       "5             Flutter, Firebase, GraphQL   \n",
       "6                  WordPress, PHP, MySQL   \n",
       "7                    Magento, PHP, MySQL   \n",
       "8         React Native, Node.js, MongoDB   \n",
       "9                  iOS, Swift, Core Data   \n",
       "10       Android, Java, Room Persistence   \n",
       "11             Kotlin, Android, Firebase   \n",
       "12       Android TV, Kotlin, Android NDK   \n",
       "13                     iOS, Swift, ARKit   \n",
       "14        Cross-platform, Xamarin, Azure   \n",
       "15          Backend, Kotlin, Spring Boot   \n",
       "16         Frontend, TypeScript, Angular   \n",
       "17    Full-stack, JavaScript, Express.js   \n",
       "18  Machine Learning, Python, TensorFlow   \n",
       "19               DevOps, Jenkins, Docker   \n",
       "\n",
       "                                                Links  \n",
       "0                 https://example.com/react-portfolio  \n",
       "1               https://example.com/angular-portfolio  \n",
       "2                   https://example.com/vue-portfolio  \n",
       "3                https://example.com/python-portfolio  \n",
       "4                  https://example.com/java-portfolio  \n",
       "5               https://example.com/flutter-portfolio  \n",
       "6             https://example.com/wordpress-portfolio  \n",
       "7               https://example.com/magento-portfolio  \n",
       "8          https://example.com/react-native-portfolio  \n",
       "9                   https://example.com/ios-portfolio  \n",
       "10              https://example.com/android-portfolio  \n",
       "11       https://example.com/kotlin-android-portfolio  \n",
       "12           https://example.com/android-tv-portfolio  \n",
       "13               https://example.com/ios-ar-portfolio  \n",
       "14              https://example.com/xamarin-portfolio  \n",
       "15       https://example.com/kotlin-backend-portfolio  \n",
       "16  https://example.com/typescript-frontend-portfolio  \n",
       "17        https://example.com/full-stack-js-portfolio  \n",
       "18            https://example.com/ml-python-portfolio  \n",
       "19               https://example.com/devops-portfolio  "
      ]
     },
     "execution_count": 33,
     "metadata": {},
     "output_type": "execute_result"
    }
   ],
   "source": [
    "df = pd.read_csv(\"my_portfolio.csv\")\n",
    "df"
   ]
  },
  {
   "cell_type": "code",
   "execution_count": 34,
   "id": "8671ef88-5a12-4120-ad88-a1ecff6fd8ee",
   "metadata": {},
   "outputs": [],
   "source": [
    "import uuid\n",
    "import chromadb\n",
    "\n",
    "client = chromadb.PersistentClient('vectorstore')\n",
    "collection = client.get_or_create_collection(name=\"portfolio\")\n",
    "\n",
    "if not collection.count():\n",
    "    for _, row in df.iterrows():\n",
    "        collection.add(documents=row[\"Techstack\"],\n",
    "                       metadatas={\"links\": row[\"Links\"]},\n",
    "                       ids=[str(uuid.uuid4())])"
   ]
  },
  {
   "cell_type": "code",
   "execution_count": 38,
   "id": "7e9cbbb0-f91a-421d-86dc-1501ff40945b",
   "metadata": {},
   "outputs": [
    {
     "data": {
      "text/plain": [
       "{'role': 'Senior Principal AI/ML Engineer',\n",
       " 'experience': '10+ years of experience across multiple roles in developing productionized code in software engineering, machine learning or a related field',\n",
       " 'skills': ['Python',\n",
       "  'algorithms and data structures',\n",
       "  'AWS',\n",
       "  'databases',\n",
       "  'data processing technologies',\n",
       "  'ETL',\n",
       "  'ML',\n",
       "  'analytics technologies such as Scikit-learn, Dask, Tensorflow, Kubeflow, Spark, EMR'],\n",
       " 'job description': 'Lead the development of robust machine learning and generative AI solutions that have a direct impact on the business. Evangelize technical direction, mentor cross-functional technical teams, and collaborate with non-technical stakeholders.'}"
      ]
     },
     "execution_count": 38,
     "metadata": {},
     "output_type": "execute_result"
    }
   ],
   "source": [
    "job = json_res\n",
    "job"
   ]
  },
  {
   "cell_type": "code",
   "execution_count": 40,
   "id": "b4fac615-47e0-4cbd-9a6b-b57c85d03917",
   "metadata": {},
   "outputs": [
    {
     "data": {
      "text/plain": [
       "[[{'links': 'https://example.com/ml-python-portfolio'},\n",
       "  {'links': 'https://example.com/python-portfolio'}],\n",
       " [{'links': 'https://example.com/ml-python-portfolio'},\n",
       "  {'links': 'https://example.com/magento-portfolio'}],\n",
       " [{'links': 'https://example.com/ios-ar-portfolio'},\n",
       "  {'links': 'https://example.com/wordpress-portfolio'}],\n",
       " [{'links': 'https://example.com/magento-portfolio'},\n",
       "  {'links': 'https://example.com/wordpress-portfolio'}],\n",
       " [{'links': 'https://example.com/magento-portfolio'},\n",
       "  {'links': 'https://example.com/wordpress-portfolio'}],\n",
       " [{'links': 'https://example.com/ml-python-portfolio'},\n",
       "  {'links': 'https://example.com/android-tv-portfolio'}],\n",
       " [{'links': 'https://example.com/ml-python-portfolio'},\n",
       "  {'links': 'https://example.com/magento-portfolio'}],\n",
       " [{'links': 'https://example.com/ml-python-portfolio'},\n",
       "  {'links': 'https://example.com/ios-ar-portfolio'}]]"
      ]
     },
     "execution_count": 40,
     "metadata": {},
     "output_type": "execute_result"
    }
   ],
   "source": [
    "links = collection.query(query_texts=job['skills'], n_results=2).get('metadatas', [])\n",
    "links"
   ]
  },
  {
   "cell_type": "code",
   "execution_count": 41,
   "id": "4e567d09-6cdc-484e-afb3-b273d9865e7a",
   "metadata": {},
   "outputs": [
    {
     "name": "stdout",
     "output_type": "stream",
     "text": [
      "Subject: Expert AI/ML Solutions for Your Business Needs\n",
      "\n",
      "Dear Hiring Manager,\n",
      "\n",
      "I came across the job description for a Senior Principal AI/ML Engineer at your organization, and I'm excited to introduce AtliQ, a leading AI & Software Consulting company. With over 10 years of experience in developing productionized code in software engineering, machine learning, and related fields, our team is confident in fulfilling your requirements.\n",
      "\n",
      "At AtliQ, we specialize in creating robust machine learning and generative AI solutions that drive business growth. Our expertise includes Python, algorithms and data structures, AWS, databases, data processing technologies, ETL, ML, and analytics technologies such as Scikit-learn, Dask, Tensorflow, Kubeflow, Spark, and EMR. We've empowered numerous enterprises with tailored solutions, resulting in scalability, process optimization, cost reduction, and heightened overall efficiency.\n",
      "\n",
      "Our portfolio showcases our capabilities in machine learning and Python, with notable projects featured in our ML-Python portfolio (https://example.com/ml-python-portfolio) and Python portfolio (https://example.com/python-portfolio). We've also successfully implemented solutions using Magento (https://example.com/magento-portfolio) and have experience with iOS AR (https://example.com/ios-ar-portfolio).\n",
      "\n",
      "As a seasoned business development executive at AtliQ, I'd be delighted to discuss how our team can lead the development of robust machine learning and generative AI solutions that have a direct impact on your business. We can evangelize technical direction, mentor cross-functional technical teams, and collaborate with non-technical stakeholders to ensure seamless integration.\n",
      "\n",
      "Please let's schedule a call to explore how AtliQ can support your organization's AI/ML needs. I look forward to hearing from you soon.\n",
      "\n",
      "Best regards,\n",
      "\n",
      "Mohan\n",
      "Business Development Executive\n",
      "AtliQ\n"
     ]
    }
   ],
   "source": [
    "prompt_email = PromptTemplate.from_template(\n",
    "        \"\"\"\n",
    "        ### JOB DESCRIPTION:\n",
    "        {job_description}\n",
    "        \n",
    "        ### INSTRUCTION:\n",
    "        You are Mohan, a business development executive at AtliQ. AtliQ is an AI & Software Consulting company dedicated to facilitating\n",
    "        the seamless integration of business processes through automated tools. \n",
    "        Over our experience, we have empowered numerous enterprises with tailored solutions, fostering scalability, \n",
    "        process optimization, cost reduction, and heightened overall efficiency. \n",
    "        Your job is to write a cold email to the client regarding the job mentioned above describing the capability of AtliQ \n",
    "        in fulfilling their needs.\n",
    "        Also add the most relevant ones from the following links to showcase Atliq's portfolio: {link_list}\n",
    "        Remember you are Mohan, BDE at AtliQ. \n",
    "        Do not provide a preamble.\n",
    "        ### EMAIL (NO PREAMBLE):\n",
    "        \n",
    "        \"\"\"\n",
    "        )\n",
    "\n",
    "chain_email = prompt_email | llm\n",
    "res = chain_email.invoke({\"job_description\": str(job), \"link_list\": links})\n",
    "print(res.content)"
   ]
  },
  {
   "cell_type": "code",
   "execution_count": null,
   "id": "31c2cbf2-4e95-4031-b914-eced85f7cc7c",
   "metadata": {},
   "outputs": [],
   "source": []
  }
 ],
 "metadata": {
  "kernelspec": {
   "display_name": "Python 3 (ipykernel)",
   "language": "python",
   "name": "python3"
  },
  "language_info": {
   "codemirror_mode": {
    "name": "ipython",
    "version": 3
   },
   "file_extension": ".py",
   "mimetype": "text/x-python",
   "name": "python",
   "nbconvert_exporter": "python",
   "pygments_lexer": "ipython3",
   "version": "3.12.4"
  }
 },
 "nbformat": 4,
 "nbformat_minor": 5
}
