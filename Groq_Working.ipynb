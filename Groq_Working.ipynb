{
 "cells": [
  {
   "cell_type": "code",
   "execution_count": 1,
   "id": "4fb1e6ca-ad08-4fc0-9cf7-6f94c2a66e3d",
   "metadata": {},
   "outputs": [
    {
     "name": "stdout",
     "output_type": "stream",
     "text": [
      "Requirement already satisfied: langchain_groq in c:\\users\\yawan\\venv\\lib\\site-packages (0.2.3)\n",
      "Requirement already satisfied: groq<1,>=0.4.1 in c:\\users\\yawan\\venv\\lib\\site-packages (from langchain_groq) (0.15.0)\n",
      "Requirement already satisfied: langchain-core<0.4.0,>=0.3.29 in c:\\users\\yawan\\venv\\lib\\site-packages (from langchain_groq) (0.3.30)\n",
      "Requirement already satisfied: anyio<5,>=3.5.0 in c:\\users\\yawan\\venv\\lib\\site-packages (from groq<1,>=0.4.1->langchain_groq) (4.8.0)\n",
      "Requirement already satisfied: distro<2,>=1.7.0 in c:\\users\\yawan\\venv\\lib\\site-packages (from groq<1,>=0.4.1->langchain_groq) (1.9.0)\n",
      "Requirement already satisfied: httpx<1,>=0.23.0 in c:\\users\\yawan\\venv\\lib\\site-packages (from groq<1,>=0.4.1->langchain_groq) (0.28.1)\n",
      "Requirement already satisfied: pydantic<3,>=1.9.0 in c:\\users\\yawan\\venv\\lib\\site-packages (from groq<1,>=0.4.1->langchain_groq) (2.10.5)\n",
      "Requirement already satisfied: sniffio in c:\\users\\yawan\\venv\\lib\\site-packages (from groq<1,>=0.4.1->langchain_groq) (1.3.1)\n",
      "Requirement already satisfied: typing-extensions<5,>=4.10 in c:\\users\\yawan\\venv\\lib\\site-packages (from groq<1,>=0.4.1->langchain_groq) (4.12.2)\n",
      "Requirement already satisfied: PyYAML>=5.3 in c:\\users\\yawan\\venv\\lib\\site-packages (from langchain-core<0.4.0,>=0.3.29->langchain_groq) (6.0.2)\n",
      "Requirement already satisfied: jsonpatch<2.0,>=1.33 in c:\\users\\yawan\\venv\\lib\\site-packages (from langchain-core<0.4.0,>=0.3.29->langchain_groq) (1.33)\n",
      "Requirement already satisfied: langsmith<0.3,>=0.1.125 in c:\\users\\yawan\\venv\\lib\\site-packages (from langchain-core<0.4.0,>=0.3.29->langchain_groq) (0.2.11)\n",
      "Requirement already satisfied: packaging<25,>=23.2 in c:\\users\\yawan\\venv\\lib\\site-packages (from langchain-core<0.4.0,>=0.3.29->langchain_groq) (24.2)\n",
      "Requirement already satisfied: tenacity!=8.4.0,<10.0.0,>=8.1.0 in c:\\users\\yawan\\venv\\lib\\site-packages (from langchain-core<0.4.0,>=0.3.29->langchain_groq) (9.0.0)\n",
      "Requirement already satisfied: idna>=2.8 in c:\\users\\yawan\\venv\\lib\\site-packages (from anyio<5,>=3.5.0->groq<1,>=0.4.1->langchain_groq) (3.10)\n",
      "Requirement already satisfied: certifi in c:\\users\\yawan\\venv\\lib\\site-packages (from httpx<1,>=0.23.0->groq<1,>=0.4.1->langchain_groq) (2024.12.14)\n",
      "Requirement already satisfied: httpcore==1.* in c:\\users\\yawan\\venv\\lib\\site-packages (from httpx<1,>=0.23.0->groq<1,>=0.4.1->langchain_groq) (1.0.7)\n",
      "Requirement already satisfied: h11<0.15,>=0.13 in c:\\users\\yawan\\venv\\lib\\site-packages (from httpcore==1.*->httpx<1,>=0.23.0->groq<1,>=0.4.1->langchain_groq) (0.14.0)\n",
      "Requirement already satisfied: jsonpointer>=1.9 in c:\\users\\yawan\\venv\\lib\\site-packages (from jsonpatch<2.0,>=1.33->langchain-core<0.4.0,>=0.3.29->langchain_groq) (3.0.0)\n",
      "Requirement already satisfied: orjson<4.0.0,>=3.9.14 in c:\\users\\yawan\\venv\\lib\\site-packages (from langsmith<0.3,>=0.1.125->langchain-core<0.4.0,>=0.3.29->langchain_groq) (3.10.15)\n",
      "Requirement already satisfied: requests<3,>=2 in c:\\users\\yawan\\venv\\lib\\site-packages (from langsmith<0.3,>=0.1.125->langchain-core<0.4.0,>=0.3.29->langchain_groq) (2.32.3)\n",
      "Requirement already satisfied: requests-toolbelt<2.0.0,>=1.0.0 in c:\\users\\yawan\\venv\\lib\\site-packages (from langsmith<0.3,>=0.1.125->langchain-core<0.4.0,>=0.3.29->langchain_groq) (1.0.0)\n",
      "Requirement already satisfied: annotated-types>=0.6.0 in c:\\users\\yawan\\venv\\lib\\site-packages (from pydantic<3,>=1.9.0->groq<1,>=0.4.1->langchain_groq) (0.7.0)\n",
      "Requirement already satisfied: pydantic-core==2.27.2 in c:\\users\\yawan\\venv\\lib\\site-packages (from pydantic<3,>=1.9.0->groq<1,>=0.4.1->langchain_groq) (2.27.2)\n",
      "Requirement already satisfied: charset-normalizer<4,>=2 in c:\\users\\yawan\\venv\\lib\\site-packages (from requests<3,>=2->langsmith<0.3,>=0.1.125->langchain-core<0.4.0,>=0.3.29->langchain_groq) (3.4.1)\n",
      "Requirement already satisfied: urllib3<3,>=1.21.1 in c:\\users\\yawan\\venv\\lib\\site-packages (from requests<3,>=2->langsmith<0.3,>=0.1.125->langchain-core<0.4.0,>=0.3.29->langchain_groq) (2.3.0)\n",
      "Note: you may need to restart the kernel to use updated packages.\n"
     ]
    }
   ],
   "source": [
    "pip install langchain_groq\n"
   ]
  },
  {
   "cell_type": "code",
   "execution_count": 2,
   "id": "136af784-2a89-4339-b416-5e54f9618430",
   "metadata": {},
   "outputs": [],
   "source": [
    "from langchain_groq import ChatGroq"
   ]
  },
  {
   "cell_type": "code",
   "execution_count": 3,
   "id": "dd8fdccc-6b87-49e9-9cfb-5c056b178bd8",
   "metadata": {},
   "outputs": [],
   "source": [
    "llm = ChatGroq(temperature=0,groq_api_key = \"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\",\n",
    "              model_name=\"llama-3.3-70b-versatile\")"
   ]
  },
  {
   "cell_type": "code",
   "execution_count": 4,
   "id": "6156b120-4f23-4758-8ba5-db3d9f21b53e",
   "metadata": {},
   "outputs": [],
   "source": [
    "response = llm.invoke(\"The first person who walked on moon\")"
   ]
  },
  {
   "cell_type": "code",
   "execution_count": 5,
   "id": "8e6c2e09-d927-41fe-a420-e4debb00442e",
   "metadata": {},
   "outputs": [
    {
     "name": "stdout",
     "output_type": "stream",
     "text": [
      "The first person to walk on the moon was Neil Armstrong. He stepped out of the lunar module Eagle and onto the moon's surface on July 20, 1969, during the Apollo 11 mission. Armstrong famously declared, \"That's one small step for man, one giant leap for mankind,\" as he became the first human to set foot on the moon.\n",
      "\n",
      "Armstrong was followed by Edwin \"Buzz\" Aldrin, who also walked on the moon during the same mission. The two astronauts spent about two and a half hours outside the lunar module, collecting samples and conducting experiments.\n",
      "\n",
      "Here's a brief timeline of the Apollo 11 mission:\n",
      "\n",
      "* July 16, 1969: Apollo 11 launches from Kennedy Space Center in Florida.\n",
      "* July 20, 1969: The lunar module Eagle lands on the moon's surface.\n",
      "* July 20, 1969: Neil Armstrong becomes the first person to walk on the moon.\n",
      "* July 21, 1969: The lunar module lifts off from the moon and returns to the command module Columbia.\n",
      "* July 24, 1969: The Apollo 11 spacecraft splashes down in the Pacific Ocean, marking the end of the mission.\n",
      "\n",
      "Neil Armstrong's historic moonwalk was a groundbreaking achievement that marked a major milestone in space exploration.\n"
     ]
    }
   ],
   "source": [
    "print(response.content)"
   ]
  },
  {
   "cell_type": "code",
   "execution_count": null,
   "id": "f36a7a29-0d88-44a1-84fb-ccb7104976f6",
   "metadata": {},
   "outputs": [],
   "source": []
  }
 ],
 "metadata": {
  "kernelspec": {
   "display_name": "Python 3 (ipykernel)",
   "language": "python",
   "name": "python3"
  },
  "language_info": {
   "codemirror_mode": {
    "name": "ipython",
    "version": 3
   },
   "file_extension": ".py",
   "mimetype": "text/x-python",
   "name": "python",
   "nbconvert_exporter": "python",
   "pygments_lexer": "ipython3",
   "version": "3.12.4"
  }
 },
 "nbformat": 4,
 "nbformat_minor": 5
}
